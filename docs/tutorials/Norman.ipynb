{
 "cells": [
  {
   "cell_type": "markdown",
   "id": "bf8a9058-67e6-40f2-b855-7a5a6776b7a7",
   "metadata": {},
   "source": [
    "# Norman 2019 Training Demo"
   ]
  },
  {
   "cell_type": "code",
   "execution_count": 1,
   "id": "fb784181-b262-4822-bd8b-c718072b678f",
   "metadata": {},
   "outputs": [],
   "source": [
    "import sys\n",
    "#if branch is stable, will install via pypi, else will install from source\n",
    "branch = \"stable\"\n",
    "IN_COLAB = \"google.colab\" in sys.modules\n",
    "\n",
    "if IN_COLAB and branch == \"stable\":\n",
    "    !pip install cpa-tools\n",
    "elif IN_COLAB and branch != \"stable\":\n",
    "    !pip install --quiet --upgrade jsonschema\n",
    "    !pip install --quiet git+https://github.com/theislab/cpa"
   ]
  },
  {
   "cell_type": "code",
   "execution_count": 2,
   "id": "1c687c31-96f4-49cc-8429-ef774c966c8a",
   "metadata": {},
   "outputs": [],
   "source": [
    "import os\n",
    "os.chdir('/home/mohsen/projects/cpa/')\n",
    "os.environ['CUDA_VISIBLE_DEVICES'] = '1'"
   ]
  },
  {
   "cell_type": "code",
   "execution_count": 3,
   "id": "38be1499-86dc-4465-873f-b994e5f4a21a",
   "metadata": {},
   "outputs": [
    {
     "name": "stderr",
     "output_type": "stream",
     "text": [
      "Global seed set to 0\n"
     ]
    }
   ],
   "source": [
    "import cpa\n",
    "import scanpy as sc"
   ]
  },
  {
   "cell_type": "code",
   "execution_count": 4,
   "id": "2f18cb22-1c6e-4329-b965-1fcabd978dbe",
   "metadata": {},
   "outputs": [],
   "source": [
    "sc.settings.set_figure_params(dpi=100)"
   ]
  },
  {
   "cell_type": "code",
   "execution_count": 5,
   "id": "504bd1f9-945e-4ee1-ac7b-4f6ea19fb2a6",
   "metadata": {},
   "outputs": [],
   "source": [
    "data_path = '/home/mohsen/projects/cpa/datasets/Norman2019_prep_new.h5ad'"
   ]
  },
  {
   "cell_type": "code",
   "execution_count": 6,
   "id": "d4e06d9e-ecb3-4014-a03d-80ea8b4d8820",
   "metadata": {},
   "outputs": [
    {
     "data": {
      "text/plain": [
       "AnnData object with n_obs × n_vars = 108497 × 5000\n",
       "    obs: 'cov_drug_dose_name', 'dose_val', 'control', 'condition', 'guide_identity', 'drug_dose_name', 'cell_type', 'split', 'split1', 'split2', 'split3', 'split4', 'split5', 'split6', 'split7', 'split8', 'split9', 'split10', 'split11', 'split12', 'split13', 'split14', 'split15', 'split16', 'split17', 'split18', 'split19', 'split20', 'split21', 'split22', 'split23', 'split24', 'split25'\n",
       "    var: 'gene_symbols', 'highly_variable', 'means', 'dispersions', 'dispersions_norm'\n",
       "    uns: 'hvg', 'rank_genes_groups_cov'\n",
       "    layers: 'counts'"
      ]
     },
     "execution_count": 6,
     "metadata": {},
     "output_type": "execute_result"
    }
   ],
   "source": [
    "adata = sc.read(data_path, backup_url='https://drive.google.com/u/0/uc?id=1pxT0fvXtqBBtdv1CCPVwJaMLHe9XpMHo&export=download&confirm=t')\n",
    "adata"
   ]
  },
  {
   "cell_type": "code",
   "execution_count": 7,
   "id": "fb8f237c-1efb-45e6-a089-266e333a603d",
   "metadata": {},
   "outputs": [
    {
     "name": "stdout",
     "output_type": "stream",
     "text": [
      "\u001b[34mINFO    \u001b[0m No batch_key inputted, assuming all cells are same batch                            \n",
      "\u001b[34mINFO    \u001b[0m No label_key inputted, assuming all cells have same label                           \n",
      "\u001b[34mINFO    \u001b[0m Using data from adata.X                                                             \n",
      "\u001b[34mINFO    \u001b[0m Successfully registered anndata object containing \u001b[1;36m108497\u001b[0m cells, \u001b[1;36m5000\u001b[0m vars, \u001b[1;36m1\u001b[0m        \n",
      "         batches, \u001b[1;36m1\u001b[0m labels, and \u001b[1;36m0\u001b[0m proteins. Also registered \u001b[1;36m0\u001b[0m extra categorical covariates   \n",
      "         and \u001b[1;36m0\u001b[0m extra continuous covariates.                                                  \n",
      "\u001b[34mINFO    \u001b[0m Please do not further modify adata until model is trained.                          \n"
     ]
    },
    {
     "name": "stderr",
     "output_type": "stream",
     "text": [
      "100%|███████████████████████████████████████████████████████████████████████████████████████████████████████| 108497/108497 [00:14<00:00, 7551.64it/s]\n"
     ]
    }
   ],
   "source": [
    "cpa.CPA.setup_anndata(adata, \n",
    "                      drug_key='condition', \n",
    "                      dose_key='dose_val',\n",
    "                      control_key='control',\n",
    "                      categorical_covariate_keys=['cell_type'],\n",
    "                      combinatorial=True,\n",
    "                     )"
   ]
  },
  {
   "cell_type": "code",
   "execution_count": 8,
   "id": "6fcc8a93-e430-4ad4-9681-60589edd4d9c",
   "metadata": {},
   "outputs": [],
   "source": [
    "ae_hparams = {'adversary_depth': 2,\n",
    "              'adversary_width': 256,\n",
    "              'autoencoder_depth': 4,\n",
    "              'autoencoder_width': 256,\n",
    "              'dosers_depth': 3,\n",
    "              'dosers_width': 32,\n",
    "              'use_batch_norm': True,\n",
    "              'use_layer_norm': False,\n",
    "              'dropout_rate': 0.0,\n",
    "              'variational': False,\n",
    "              'seed': 31,\n",
    "              }\n",
    "\n",
    "trainer_params = {\n",
    "    'n_epochs_warmup': 0,\n",
    "    'adversary_lr': 0.00012219948594647382,\n",
    "    'adversary_steps': 2,\n",
    "    'adversary_wd': 1.4033946047401463e-05,\n",
    "    'autoencoder_lr': 0.00014147035543889223,\n",
    "    'autoencoder_wd': 2.2782368178455333e-08,\n",
    "    'dosers_lr': 0.0007022363227033381,\n",
    "    'dosers_wd': 6.249509305603141e-06,\n",
    "    'penalty_adversary': 0.013702812231919399,\n",
    "    'reg_adversary': 4.02272482876072,\n",
    "    'step_size_lr': 45,\n",
    "}"
   ]
  },
  {
   "cell_type": "code",
   "execution_count": 9,
   "id": "23b87380-7104-4f79-9ea1-a1ea7e683878",
   "metadata": {},
   "outputs": [
    {
     "name": "stderr",
     "output_type": "stream",
     "text": [
      "Global seed set to 31\n"
     ]
    }
   ],
   "source": [
    "model = cpa.CPA(adata=adata, \n",
    "                n_latent=512,\n",
    "                loss_ae='gauss',\n",
    "                doser_type='logsigm',\n",
    "                split_key='split',\n",
    "                **ae_hparams,\n",
    "               )"
   ]
  },
  {
   "cell_type": "code",
   "execution_count": null,
   "id": "b0f6ca89-9886-449f-a9c3-5c2421883a41",
   "metadata": {
    "tags": []
   },
   "outputs": [
    {
     "name": "stderr",
     "output_type": "stream",
     "text": [
      "GPU available: True, used: True\n",
      "TPU available: False, using: 0 TPU cores\n",
      "LOCAL_RANK: 0 - CUDA_VISIBLE_DEVICES: [1]\n",
      "\n",
      "  | Name   | Type      | Params\n",
      "-------------------------------------\n",
      "0 | module | CPAModule | 4.8 M \n",
      "-------------------------------------\n",
      "4.8 M     Trainable params\n",
      "0         Non-trainable params\n",
      "4.8 M     Total params\n",
      "19.130    Total estimated model params size (MB)\n"
     ]
    },
    {
     "name": "stdout",
     "output_type": "stream",
     "text": [
      "Epoch 420/2000:  21%|▏| 420/2000 [5:09:51<7:14:49, 16.51s/it, recon=-1.32, adv_loss=0.0679, val_recon=-2.61, val_disnt_basal=0.0218, val_disnt_after=0"
     ]
    }
   ],
   "source": [
    "model.train(max_epochs=2000,\n",
    "            use_gpu=True, \n",
    "            batch_size=256,\n",
    "            early_stopping=True,\n",
    "            plan_kwargs=trainer_params,\n",
    "            early_stopping_patience=15,\n",
    "            check_val_every_n_epoch=20,\n",
    "            save_path='/home/mohsen/projects/cpa/lightning_logs/Norman2019_prep_new/',\n",
    "           )"
   ]
  },
  {
   "cell_type": "code",
   "execution_count": null,
   "id": "d71e0099-912b-402e-afb6-a3f920076b3d",
   "metadata": {},
   "outputs": [],
   "source": [
    "cpa.pl.plot_history(model)"
   ]
  },
  {
   "cell_type": "code",
   "execution_count": 28,
   "id": "4755f7b6-eeba-4b56-b904-dc29901a23a5",
   "metadata": {},
   "outputs": [],
   "source": [
    "cpa_api = cpa.ComPertAPI(adata, model)"
   ]
  },
  {
   "cell_type": "code",
   "execution_count": 29,
   "id": "3b137ed3-c808-4dfe-8805-24d40cccca77",
   "metadata": {},
   "outputs": [],
   "source": [
    "cpa_plots = cpa.pl.CompertVisuals(cpa_api, fileprefix=None)"
   ]
  },
  {
   "cell_type": "code",
   "execution_count": 30,
   "id": "e85fe268-d5b5-4338-99e9-23cc39ffb8eb",
   "metadata": {},
   "outputs": [],
   "source": [
    "cpa_api.compute_comb_emb(thrh=30)"
   ]
  },
  {
   "cell_type": "code",
   "execution_count": 17,
   "id": "abb5909a-bb86-490d-8e5f-f3590f25a929",
   "metadata": {},
   "outputs": [],
   "source": [
    "import pandas as pd"
   ]
  },
  {
   "cell_type": "code",
   "execution_count": null,
   "id": "65f9609d-cb12-4777-b27b-40150c54b727",
   "metadata": {
    "scrolled": true,
    "tags": []
   },
   "outputs": [
    {
     "name": "stdout",
     "output_type": "stream",
     "text": [
      "\u001b[34mINFO    \u001b[0m .obs\u001b[1m[\u001b[0m_scvi_batch\u001b[1m]\u001b[0m not found in target, assuming every cell is same category         \n",
      "\u001b[34mINFO    \u001b[0m .obs\u001b[1m[\u001b[0m_scvi_labels\u001b[1m]\u001b[0m not found in target, assuming every cell is same category        \n",
      "\u001b[34mINFO    \u001b[0m Using data from adata.X                                                             \n",
      "\u001b[34mINFO    \u001b[0m Registered keys:\u001b[1m[\u001b[0m\u001b[32m'X'\u001b[0m, \u001b[32m'batch_indices'\u001b[0m, \u001b[32m'labels'\u001b[0m, \u001b[32m'drugs_doses'\u001b[0m, \u001b[32m'cell_type'\u001b[0m\u001b[1m]\u001b[0m        \n",
      "\u001b[34mINFO    \u001b[0m Successfully registered anndata object containing \u001b[1;36m8907\u001b[0m cells, \u001b[1;36m5000\u001b[0m vars, \u001b[1;36m1\u001b[0m batches, \n",
      "         \u001b[1;36m1\u001b[0m labels, and \u001b[1;36m0\u001b[0m proteins. Also registered \u001b[1;36m0\u001b[0m extra categorical covariates and \u001b[1;36m0\u001b[0m extra\n",
      "         continuous covariates.                                                              \n"
     ]
    },
    {
     "name": "stderr",
     "output_type": "stream",
     "text": [
      "/home/mohsen/miniconda3/envs/cpa/lib/python3.9/site-packages/sklearn/utils/deprecation.py:87: FutureWarning: Function transfer_anndata_setup is deprecated; This method will be removed in 0.15.0. Please avoid building any new dependencies on it.\n",
      "  warnings.warn(msg, category=FutureWarning)\n"
     ]
    },
    {
     "name": "stdout",
     "output_type": "stream",
     "text": [
      "\u001b[34mINFO    \u001b[0m .obs\u001b[1m[\u001b[0m_scvi_batch\u001b[1m]\u001b[0m not found in target, assuming every cell is same category         \n",
      "\u001b[34mINFO    \u001b[0m .obs\u001b[1m[\u001b[0m_scvi_labels\u001b[1m]\u001b[0m not found in target, assuming every cell is same category        \n",
      "\u001b[34mINFO    \u001b[0m Using data from adata.X                                                             \n",
      "\u001b[34mINFO    \u001b[0m Registered keys:\u001b[1m[\u001b[0m\u001b[32m'X'\u001b[0m, \u001b[32m'batch_indices'\u001b[0m, \u001b[32m'labels'\u001b[0m, \u001b[32m'drugs_doses'\u001b[0m, \u001b[32m'cell_type'\u001b[0m\u001b[1m]\u001b[0m        \n",
      "\u001b[34mINFO    \u001b[0m Successfully registered anndata object containing \u001b[1;36m8907\u001b[0m cells, \u001b[1;36m5000\u001b[0m vars, \u001b[1;36m1\u001b[0m batches, \n",
      "         \u001b[1;36m1\u001b[0m labels, and \u001b[1;36m0\u001b[0m proteins. Also registered \u001b[1;36m0\u001b[0m extra categorical covariates and \u001b[1;36m0\u001b[0m extra\n",
      "         continuous covariates.                                                              \n"
     ]
    },
    {
     "name": "stderr",
     "output_type": "stream",
     "text": [
      "/home/mohsen/miniconda3/envs/cpa/lib/python3.9/site-packages/sklearn/utils/deprecation.py:87: FutureWarning: Function transfer_anndata_setup is deprecated; This method will be removed in 0.15.0. Please avoid building any new dependencies on it.\n",
      "  warnings.warn(msg, category=FutureWarning)\n",
      "/home/mohsen/projects/cpa/cpa/_model.py:458: UserWarning: Make sure the registered X field in anndata contains unnormalized count data.\n",
      "  warnings.warn(\n",
      "/home/mohsen/miniconda3/envs/cpa/lib/python3.9/site-packages/anndata/_core/anndata.py:801: UserWarning: \n",
      "AnnData expects .obs.index to contain strings, but got values like:\n",
      "    [0, 1, 2, 3, 4]\n",
      "\n",
      "    Inferred to be: integer\n",
      "\n",
      "  value_idx = self._prep_dim_index(value.index, attr)\n"
     ]
    },
    {
     "data": {
      "text/plain": [
       "AnnData object with n_obs × n_vars = 17814 × 5000\n",
       "    obs: 'condition', 'dose_val', 'cell_type', 'uncertainty_cosine', 'uncertainty_euclidean', 'closest_cond_cosine', 'closest_cond_euclidean', 'cov_drug_dose_name'\n",
       "    layers: 'variance'"
      ]
     },
     "execution_count": 18,
     "metadata": {},
     "output_type": "execute_result"
    }
   ],
   "source": [
    "# construct prediction annadata\n",
    "subset = adata[adata.obs['cell_type'] == 'A549'].copy()\n",
    "genes_control = subset[subset.obs['condition'] == 'ctrl'].copy()\n",
    "\n",
    "df = pd.DataFrame({'condition': ['TSC22D1+ctrl'] + ['KLF1+MAP2K6'], \n",
    "                   'dose_val': ['1+1'] + ['1+1'], \n",
    "                   'cell_type': ['A549']*2})\n",
    "\n",
    "pred = cpa_api.predict(genes_control.X.toarray(), df)  # normally would put `sample=True` here\n",
    "pred.obs['cov_drug_dose_name'] = pred.obs['cell_type'].astype(str) + '_' + pred.obs['condition'].astype(str) + '_' + pred.obs['dose_val'].astype(str)\n",
    "pred.obs['cov_drug_dose_name'] = pred.obs['cov_drug_dose_name'].astype('category')\n",
    "pred"
   ]
  },
  {
   "cell_type": "code",
   "execution_count": 19,
   "id": "8888531c-7734-4d36-a2b4-cbd63104edb0",
   "metadata": {},
   "outputs": [
    {
     "data": {
      "text/plain": [
       "['A549_ctrl_1', 'A549_TSC22D1+ctrl_1+1', 'A549_KLF1+MAP2K6_1+1', 'A549_CEBPE+RUNX1T1_1+1', 'A549_MAML2+ctrl_1+1', ..., 'A549_SNAI1+ctrl_1+1', 'A549_PLK4+STIL_1+1', 'A549_ZBTB10+ELMSAN1_1+1', 'A549_CDKN1C+ctrl_1+1', 'A549_C3orf72+FOXL2_1+1']\n",
       "Length: 284\n",
       "Categories (284, object): ['A549_AHR+FEV_1+1', 'A549_AHR+KLF1_1+1', 'A549_AHR+ctrl_1+1', 'A549_ARID1A+ctrl_1+1', ..., 'A549_ctrl+UBASH3B_1+1', 'A549_ctrl+ZBTB1_1+1', 'A549_ctrl+ZBTB25_1+1', 'A549_ctrl_1']"
      ]
     },
     "execution_count": 19,
     "metadata": {},
     "output_type": "execute_result"
    }
   ],
   "source": [
    "adata.obs['cov_drug_dose_name'].unique()"
   ]
  },
  {
   "cell_type": "code",
   "execution_count": 22,
   "id": "cc868829-c88f-460a-bb93-3e89182f71c2",
   "metadata": {},
   "outputs": [],
   "source": [
    "de_dict = adata[adata.obs.split == 'train'].uns['rank_genes_groups_cov']\n",
    "de_dict = {k: adata.var_names for k, v in de_dict.items()}"
   ]
  },
  {
   "cell_type": "code",
   "execution_count": 23,
   "id": "4eacc32b-ce1b-46ac-a859-42437181a5fc",
   "metadata": {},
   "outputs": [
    {
     "name": "stderr",
     "output_type": "stream",
     "text": [
      "Observation names are not unique. To make them unique, call `.obs_names_make_unique`.\n",
      "Observation names are not unique. To make them unique, call `.obs_names_make_unique`.\n",
      "Observation names are not unique. To make them unique, call `.obs_names_make_unique`.\n"
     ]
    }
   ],
   "source": [
    "pred_adata = pred.concatenate(adata, batch_key='source', batch_categories=['pred', 'true'])"
   ]
  },
  {
   "cell_type": "code",
   "execution_count": null,
   "id": "7f6337c2-a772-48bc-a03c-9ee4c03dba91",
   "metadata": {},
   "outputs": [
    {
     "name": "stderr",
     "output_type": "stream",
     "text": [
      "/home/mohsen/miniconda3/envs/cpa/lib/python3.9/site-packages/anndata/_core/anndata.py:1228: FutureWarning: The `inplace` parameter in pandas.Categorical.reorder_categories is deprecated and will be removed in a future version. Reordering categories will always return a new Categorical object.\n",
      "  c.reorder_categories(natsorted(c.categories), inplace=True)\n",
      "/home/mohsen/miniconda3/envs/cpa/lib/python3.9/site-packages/anndata/_core/anndata.py:1236: ImplicitModificationWarning: Initializing view as actual.\n",
      "  warnings.warn(\n",
      "Trying to set attribute `.obs` of view, copying.\n",
      "... storing 'condition' as categorical\n",
      "/home/mohsen/miniconda3/envs/cpa/lib/python3.9/site-packages/anndata/_core/anndata.py:1228: FutureWarning: The `inplace` parameter in pandas.Categorical.reorder_categories is deprecated and will be removed in a future version. Reordering categories will always return a new Categorical object.\n",
      "  c.reorder_categories(natsorted(c.categories), inplace=True)\n",
      "Trying to set attribute `.obs` of view, copying.\n",
      "... storing 'dose_val' as categorical\n",
      "/home/mohsen/miniconda3/envs/cpa/lib/python3.9/site-packages/anndata/_core/anndata.py:1228: FutureWarning: The `inplace` parameter in pandas.Categorical.reorder_categories is deprecated and will be removed in a future version. Reordering categories will always return a new Categorical object.\n",
      "  c.reorder_categories(natsorted(c.categories), inplace=True)\n",
      "Trying to set attribute `.obs` of view, copying.\n",
      "... storing 'cell_type' as categorical\n",
      "/home/mohsen/miniconda3/envs/cpa/lib/python3.9/site-packages/anndata/_core/anndata.py:1228: FutureWarning: The `inplace` parameter in pandas.Categorical.reorder_categories is deprecated and will be removed in a future version. Reordering categories will always return a new Categorical object.\n",
      "  c.reorder_categories(natsorted(c.categories), inplace=True)\n",
      "Trying to set attribute `.obs` of view, copying.\n",
      "... storing 'closest_cond_cosine' as categorical\n",
      "/home/mohsen/miniconda3/envs/cpa/lib/python3.9/site-packages/anndata/_core/anndata.py:1228: FutureWarning: The `inplace` parameter in pandas.Categorical.reorder_categories is deprecated and will be removed in a future version. Reordering categories will always return a new Categorical object.\n",
      "  c.reorder_categories(natsorted(c.categories), inplace=True)\n",
      "Trying to set attribute `.obs` of view, copying.\n",
      "... storing 'closest_cond_euclidean' as categorical\n",
      "/home/mohsen/miniconda3/envs/cpa/lib/python3.9/site-packages/anndata/_core/anndata.py:1228: FutureWarning: The `inplace` parameter in pandas.Categorical.reorder_categories is deprecated and will be removed in a future version. Reordering categories will always return a new Categorical object.\n",
      "  c.reorder_categories(natsorted(c.categories), inplace=True)\n",
      "Trying to set attribute `.obs` of view, copying.\n",
      "... storing 'cov_drug_dose_name' as categorical\n"
     ]
    }
   ],
   "source": [
    "drug_name = 'TSC22D1+ctrl'\n",
    "sc.pl.violin(\n",
    "    pred_adata[pred_adata.obs.condition == drug_name],\n",
    "    keys=de_dict[f'A549_{drug_name}_1+1'][:6],\n",
    "    groupby='source')"
   ]
  },
  {
   "cell_type": "code",
   "execution_count": null,
   "id": "fea56030-feab-4927-b140-79499559c330",
   "metadata": {},
   "outputs": [],
   "source": []
  }
 ],
 "metadata": {
  "kernelspec": {
   "display_name": "Python 3 (ipykernel)",
   "language": "python",
   "name": "python3"
  },
  "language_info": {
   "codemirror_mode": {
    "name": "ipython",
    "version": 3
   },
   "file_extension": ".py",
   "mimetype": "text/x-python",
   "name": "python",
   "nbconvert_exporter": "python",
   "pygments_lexer": "ipython3",
   "version": "3.9.7"
  }
 },
 "nbformat": 4,
 "nbformat_minor": 5
}
